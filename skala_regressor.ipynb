{
 "cells": [
  {
   "cell_type": "markdown",
   "metadata": {},
   "source": [
    "# MAP - skala\n",
    "Datacamp 2024 - Tristan Waddington"
   ]
  },
  {
   "cell_type": "code",
   "execution_count": 1,
   "metadata": {},
   "outputs": [],
   "source": [
    "import numpy as np\n",
    "import pandas as pd\n",
    "import matplotlib.pyplot as plt\n",
    "\n",
    "pd.set_option(\"display.max_columns\", None)"
   ]
  },
  {
   "cell_type": "code",
   "execution_count": 2,
   "metadata": {},
   "outputs": [
    {
     "name": "stdout",
     "output_type": "stream",
     "text": [
      "sklearn 1.6.0\n",
      "ramp 0.7.0\n"
     ]
    }
   ],
   "source": [
    "import sklearn\n",
    "\n",
    "print(\"sklearn\", sklearn.__version__)\n",
    "\n",
    "import rampwf\n",
    "\n",
    "print(\"ramp\", rampwf.__version__)"
   ]
  },
  {
   "cell_type": "markdown",
   "metadata": {},
   "source": [
    "## 1. Data exploration"
   ]
  },
  {
   "cell_type": "code",
   "execution_count": 8,
   "metadata": {},
   "outputs": [],
   "source": [
    "import problem\n",
    "\n",
    "X_df, y = problem.get_train_data(load_waveform=False)"
   ]
  },
  {
   "cell_type": "code",
   "execution_count": 5,
   "metadata": {},
   "outputs": [
    {
     "data": {
      "text/plain": [
       "(300750, 10)"
      ]
     },
     "execution_count": 5,
     "metadata": {},
     "output_type": "execute_result"
    }
   ],
   "source": [
    "X_df.shape"
   ]
  },
  {
   "cell_type": "code",
   "execution_count": 9,
   "metadata": {},
   "outputs": [
    {
     "name": "stdout",
     "output_type": "stream",
     "text": [
      "(2100, 12) (2100, 12)\n"
     ]
    },
    {
     "data": {
      "text/plain": [
       "(4200, 12)"
      ]
     },
     "execution_count": 9,
     "metadata": {},
     "output_type": "execute_result"
    }
   ],
   "source": [
    "import os\n",
    "\n",
    "os.environ[\"RAMP_TEST_MODE\"] = \"1\"\n",
    "\n",
    "X_v, y = problem.get_train_data(start=0, stop=100)\n",
    "X_m, y_m = problem.get_train_data(start=-101, stop=-1)\n",
    "print(X_v.shape, X_m.shape)\n",
    "X_df = pd.concat([X_v, X_m], axis=0)\n",
    "y = np.concatenate([y, y_m])\n",
    "\n",
    "X_df.shape"
   ]
  },
  {
   "cell_type": "markdown",
   "metadata": {},
   "source": [
    "## 2. Regressor"
   ]
  },
  {
   "cell_type": "markdown",
   "metadata": {},
   "source": [
    "---\n",
    "## Sandbox original code - do not touch"
   ]
  },
  {
   "cell_type": "code",
   "execution_count": null,
   "metadata": {},
   "outputs": [],
   "source": [
    "# original estimator.py\n",
    "from sklearn.pipeline import make_pipeline\n",
    "from sklearn.compose import make_column_transformer\n",
    "from sklearn.ensemble import RandomForestRegressor\n",
    "from sklearn.preprocessing import OrdinalEncoder\n",
    "\n",
    "\n",
    "class IgnoreDomain(RandomForestRegressor):\n",
    "    def fit(self, X, y):\n",
    "        # Ignore the samples with missing target\n",
    "        X = X[y != -1]\n",
    "        y = y[y != -1]\n",
    "        return super().fit(X, y)\n",
    "\n",
    "\n",
    "def get_estimator():\n",
    "    return make_pipeline(\n",
    "        make_column_transformer(\n",
    "            (\"passthrough\", [\"age\"]),\n",
    "            (\n",
    "                OrdinalEncoder(\n",
    "                    handle_unknown=\"use_encoded_value\", unknown_value=-1\n",
    "                ),\n",
    "                [\"gender\"],\n",
    "            ),\n",
    "        ),\n",
    "        IgnoreDomain(n_estimators=50),\n",
    "    )\n"
   ]
  }
 ],
 "metadata": {
  "kernelspec": {
   "display_name": "MAP",
   "language": "python",
   "name": "python3"
  },
  "language_info": {
   "codemirror_mode": {
    "name": "ipython",
    "version": 3
   },
   "file_extension": ".py",
   "mimetype": "text/x-python",
   "name": "python",
   "nbconvert_exporter": "python",
   "pygments_lexer": "ipython3",
   "version": "3.13.1"
  }
 },
 "nbformat": 4,
 "nbformat_minor": 2
}
